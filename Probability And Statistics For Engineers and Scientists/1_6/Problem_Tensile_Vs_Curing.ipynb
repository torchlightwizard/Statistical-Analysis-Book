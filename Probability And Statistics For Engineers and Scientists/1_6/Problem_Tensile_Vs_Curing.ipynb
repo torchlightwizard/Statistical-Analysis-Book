{
 "cells": [
  {
   "cell_type": "markdown",
   "id": "d069f2e1-74cb-4881-aef0-72d101fb24b2",
   "metadata": {},
   "source": [
    "**Problem Statement:**\n",
    "The tensile strength of silicone rubber is thought to be a function of curing temperature. A study was carried out in which samples of 12 specimens of the rubber were prepared using curing temperatures of 20◦C and 45◦C. "
   ]
  },
  {
   "cell_type": "code",
   "execution_count": 92,
   "id": "729c3274-d8cf-4c71-8210-270086b98969",
   "metadata": {
    "executionCancelledAt": null,
    "executionTime": 30,
    "lastExecutedAt": 1713854440761,
    "lastExecutedByKernel": "9d81f2b1-a17e-4439-9728-f8c53fb5a065",
    "lastScheduledRunId": null,
    "lastSuccessfullyExecutedCode": "import pandas as pd\n\ndata = pd.read_csv(\"Data_1_6.csv\", header=None)\ndata",
    "outputsMetadata": {
     "0": {
      "height": 121,
      "type": "dataFrame"
     }
    }
   },
   "outputs": [
    {
     "data": {
      "application/com.datacamp.data-table.v2+json": {
       "table": {
        "data": {
         "0": [
          20,
          45
         ],
         "1": [
          2.07,
          2.52
         ],
         "2": [
          2.14,
          2.15
         ],
         "3": [
          2.22,
          2.49
         ],
         "4": [
          2.03,
          2.03
         ],
         "5": [
          2.21,
          2.37
         ],
         "6": [
          2.03,
          2.05
         ],
         "7": [
          2.05,
          1.99
         ],
         "8": [
          2.18,
          2.42
         ],
         "9": [
          2.09,
          2.08
         ],
         "10": [
          2.14,
          2.42
         ],
         "11": [
          2.11,
          2.29
         ],
         "12": [
          2.02,
          2.01
         ],
         "index": [
          0,
          1
         ]
        },
        "schema": {
         "fields": [
          {
           "name": "index",
           "type": "integer"
          },
          {
           "name": "0",
           "type": "integer"
          },
          {
           "name": "1",
           "type": "number"
          },
          {
           "name": "2",
           "type": "number"
          },
          {
           "name": "3",
           "type": "number"
          },
          {
           "name": "4",
           "type": "number"
          },
          {
           "name": "5",
           "type": "number"
          },
          {
           "name": "6",
           "type": "number"
          },
          {
           "name": "7",
           "type": "number"
          },
          {
           "name": "8",
           "type": "number"
          },
          {
           "name": "9",
           "type": "number"
          },
          {
           "name": "10",
           "type": "number"
          },
          {
           "name": "11",
           "type": "number"
          },
          {
           "name": "12",
           "type": "number"
          }
         ],
         "pandas_version": "1.4.0",
         "primaryKey": [
          "index"
         ]
        }
       },
       "total_rows": 2,
       "truncation_type": null
      },
      "text/html": [
       "<div>\n",
       "<style scoped>\n",
       "    .dataframe tbody tr th:only-of-type {\n",
       "        vertical-align: middle;\n",
       "    }\n",
       "\n",
       "    .dataframe tbody tr th {\n",
       "        vertical-align: top;\n",
       "    }\n",
       "\n",
       "    .dataframe thead th {\n",
       "        text-align: right;\n",
       "    }\n",
       "</style>\n",
       "<table border=\"1\" class=\"dataframe\">\n",
       "  <thead>\n",
       "    <tr style=\"text-align: right;\">\n",
       "      <th></th>\n",
       "      <th>0</th>\n",
       "      <th>1</th>\n",
       "      <th>2</th>\n",
       "      <th>3</th>\n",
       "      <th>4</th>\n",
       "      <th>5</th>\n",
       "      <th>6</th>\n",
       "      <th>7</th>\n",
       "      <th>8</th>\n",
       "      <th>9</th>\n",
       "      <th>10</th>\n",
       "      <th>11</th>\n",
       "      <th>12</th>\n",
       "    </tr>\n",
       "  </thead>\n",
       "  <tbody>\n",
       "    <tr>\n",
       "      <th>0</th>\n",
       "      <td>20</td>\n",
       "      <td>2.07</td>\n",
       "      <td>2.14</td>\n",
       "      <td>2.22</td>\n",
       "      <td>2.03</td>\n",
       "      <td>2.21</td>\n",
       "      <td>2.03</td>\n",
       "      <td>2.05</td>\n",
       "      <td>2.18</td>\n",
       "      <td>2.09</td>\n",
       "      <td>2.14</td>\n",
       "      <td>2.11</td>\n",
       "      <td>2.02</td>\n",
       "    </tr>\n",
       "    <tr>\n",
       "      <th>1</th>\n",
       "      <td>45</td>\n",
       "      <td>2.52</td>\n",
       "      <td>2.15</td>\n",
       "      <td>2.49</td>\n",
       "      <td>2.03</td>\n",
       "      <td>2.37</td>\n",
       "      <td>2.05</td>\n",
       "      <td>1.99</td>\n",
       "      <td>2.42</td>\n",
       "      <td>2.08</td>\n",
       "      <td>2.42</td>\n",
       "      <td>2.29</td>\n",
       "      <td>2.01</td>\n",
       "    </tr>\n",
       "  </tbody>\n",
       "</table>\n",
       "</div>"
      ],
      "text/plain": [
       "   0     1     2     3     4     5     6     7     8     9     10    11    12\n",
       "0  20  2.07  2.14  2.22  2.03  2.21  2.03  2.05  2.18  2.09  2.14  2.11  2.02\n",
       "1  45  2.52  2.15  2.49  2.03  2.37  2.05  1.99  2.42  2.08  2.42  2.29  2.01"
      ]
     },
     "execution_count": 92,
     "metadata": {},
     "output_type": "execute_result"
    }
   ],
   "source": [
    "import pandas as pd\n",
    "\n",
    "data = pd.read_csv(\"Data_1_6.csv\", header=None)\n",
    "data"
   ]
  },
  {
   "cell_type": "code",
   "execution_count": 93,
   "id": "46f9fa4f-b731-4696-b186-ec07f25e057b",
   "metadata": {
    "executionCancelledAt": null,
    "executionTime": 61,
    "lastExecutedAt": 1713854440822,
    "lastExecutedByKernel": "9d81f2b1-a17e-4439-9728-f8c53fb5a065",
    "lastScheduledRunId": null,
    "lastSuccessfullyExecutedCode": "data = data.T\ndata.columns = data.iloc[0].astype(int)\ndata = data.iloc[1:]\ndata",
    "outputsMetadata": {
     "0": {
      "height": 321,
      "type": "dataFrame"
     }
    }
   },
   "outputs": [
    {
     "data": {
      "application/com.datacamp.data-table.v2+json": {
       "table": {
        "data": {
         "20": [
          2.07,
          2.14,
          2.22,
          2.03,
          2.21,
          2.03,
          2.05,
          2.18,
          2.09,
          2.14,
          2.11,
          2.02
         ],
         "45": [
          2.52,
          2.15,
          2.49,
          2.03,
          2.37,
          2.05,
          1.99,
          2.42,
          2.08,
          2.42,
          2.29,
          2.01
         ],
         "index": [
          1,
          2,
          3,
          4,
          5,
          6,
          7,
          8,
          9,
          10,
          11,
          12
         ]
        },
        "schema": {
         "fields": [
          {
           "name": "index",
           "type": "integer"
          },
          {
           "name": "20",
           "type": "number"
          },
          {
           "name": "45",
           "type": "number"
          }
         ],
         "pandas_version": "1.4.0",
         "primaryKey": [
          "index"
         ]
        }
       },
       "total_rows": 12,
       "truncation_type": null
      },
      "text/html": [
       "<div>\n",
       "<style scoped>\n",
       "    .dataframe tbody tr th:only-of-type {\n",
       "        vertical-align: middle;\n",
       "    }\n",
       "\n",
       "    .dataframe tbody tr th {\n",
       "        vertical-align: top;\n",
       "    }\n",
       "\n",
       "    .dataframe thead th {\n",
       "        text-align: right;\n",
       "    }\n",
       "</style>\n",
       "<table border=\"1\" class=\"dataframe\">\n",
       "  <thead>\n",
       "    <tr style=\"text-align: right;\">\n",
       "      <th></th>\n",
       "      <th>20</th>\n",
       "      <th>45</th>\n",
       "    </tr>\n",
       "  </thead>\n",
       "  <tbody>\n",
       "    <tr>\n",
       "      <th>1</th>\n",
       "      <td>2.07</td>\n",
       "      <td>2.52</td>\n",
       "    </tr>\n",
       "    <tr>\n",
       "      <th>2</th>\n",
       "      <td>2.14</td>\n",
       "      <td>2.15</td>\n",
       "    </tr>\n",
       "    <tr>\n",
       "      <th>3</th>\n",
       "      <td>2.22</td>\n",
       "      <td>2.49</td>\n",
       "    </tr>\n",
       "    <tr>\n",
       "      <th>4</th>\n",
       "      <td>2.03</td>\n",
       "      <td>2.03</td>\n",
       "    </tr>\n",
       "    <tr>\n",
       "      <th>5</th>\n",
       "      <td>2.21</td>\n",
       "      <td>2.37</td>\n",
       "    </tr>\n",
       "    <tr>\n",
       "      <th>6</th>\n",
       "      <td>2.03</td>\n",
       "      <td>2.05</td>\n",
       "    </tr>\n",
       "    <tr>\n",
       "      <th>7</th>\n",
       "      <td>2.05</td>\n",
       "      <td>1.99</td>\n",
       "    </tr>\n",
       "    <tr>\n",
       "      <th>8</th>\n",
       "      <td>2.18</td>\n",
       "      <td>2.42</td>\n",
       "    </tr>\n",
       "    <tr>\n",
       "      <th>9</th>\n",
       "      <td>2.09</td>\n",
       "      <td>2.08</td>\n",
       "    </tr>\n",
       "    <tr>\n",
       "      <th>10</th>\n",
       "      <td>2.14</td>\n",
       "      <td>2.42</td>\n",
       "    </tr>\n",
       "    <tr>\n",
       "      <th>11</th>\n",
       "      <td>2.11</td>\n",
       "      <td>2.29</td>\n",
       "    </tr>\n",
       "    <tr>\n",
       "      <th>12</th>\n",
       "      <td>2.02</td>\n",
       "      <td>2.01</td>\n",
       "    </tr>\n",
       "  </tbody>\n",
       "</table>\n",
       "</div>"
      ],
      "text/plain": [
       "0     20    45\n",
       "1   2.07  2.52\n",
       "2   2.14  2.15\n",
       "3   2.22  2.49\n",
       "4   2.03  2.03\n",
       "5   2.21  2.37\n",
       "6   2.03  2.05\n",
       "7   2.05  1.99\n",
       "8   2.18  2.42\n",
       "9   2.09  2.08\n",
       "10  2.14  2.42\n",
       "11  2.11  2.29\n",
       "12  2.02  2.01"
      ]
     },
     "execution_count": 93,
     "metadata": {},
     "output_type": "execute_result"
    }
   ],
   "source": [
    "data = data.T\n",
    "data.columns = data.iloc[0].astype(int)\n",
    "data = data.iloc[1:]\n",
    "data"
   ]
  },
  {
   "cell_type": "markdown",
   "id": "1a7dc6f0-87f6-4920-ad85-be2bedd1c733",
   "metadata": {},
   "source": [
    "1. Dot Plot of data:"
   ]
  },
  {
   "cell_type": "code",
   "execution_count": 94,
   "id": "4eede468-1050-4bda-b3e5-2f4b978a9ec3",
   "metadata": {
    "executionCancelledAt": null,
    "executionTime": 60,
    "lastExecutedAt": 1713854440882,
    "lastExecutedByKernel": "9d81f2b1-a17e-4439-9728-f8c53fb5a065",
    "lastScheduledRunId": null,
    "lastSuccessfullyExecutedCode": "data20 = pd.DataFrame({'C': 20,  'Mpa': data[20]})\ndata45 = pd.DataFrame({'C': 45,  'Mpa': data[45]})\ndata_plot = pd.concat([data20, data45])\ndata_plot",
    "outputsMetadata": {
     "0": {
      "height": 206,
      "type": "stream"
     }
    }
   },
   "outputs": [
    {
     "data": {
      "application/com.datacamp.data-table.v2+json": {
       "table": {
        "data": {
         "C": [
          20,
          20,
          20,
          20,
          20,
          20,
          20,
          20,
          20,
          20,
          20,
          20,
          45,
          45,
          45,
          45,
          45,
          45,
          45,
          45,
          45,
          45,
          45,
          45
         ],
         "Mpa": [
          2.07,
          2.14,
          2.22,
          2.03,
          2.21,
          2.03,
          2.05,
          2.18,
          2.09,
          2.14,
          2.11,
          2.02,
          2.52,
          2.15,
          2.49,
          2.03,
          2.37,
          2.05,
          1.99,
          2.42,
          2.08,
          2.42,
          2.29,
          2.01
         ],
         "index": [
          1,
          2,
          3,
          4,
          5,
          6,
          7,
          8,
          9,
          10,
          11,
          12,
          1,
          2,
          3,
          4,
          5,
          6,
          7,
          8,
          9,
          10,
          11,
          12
         ]
        },
        "schema": {
         "fields": [
          {
           "name": "index",
           "type": "integer"
          },
          {
           "name": "C",
           "type": "integer"
          },
          {
           "name": "Mpa",
           "type": "number"
          }
         ],
         "pandas_version": "1.4.0"
        }
       },
       "total_rows": 24,
       "truncation_type": null
      },
      "text/html": [
       "<div>\n",
       "<style scoped>\n",
       "    .dataframe tbody tr th:only-of-type {\n",
       "        vertical-align: middle;\n",
       "    }\n",
       "\n",
       "    .dataframe tbody tr th {\n",
       "        vertical-align: top;\n",
       "    }\n",
       "\n",
       "    .dataframe thead th {\n",
       "        text-align: right;\n",
       "    }\n",
       "</style>\n",
       "<table border=\"1\" class=\"dataframe\">\n",
       "  <thead>\n",
       "    <tr style=\"text-align: right;\">\n",
       "      <th></th>\n",
       "      <th>C</th>\n",
       "      <th>Mpa</th>\n",
       "    </tr>\n",
       "  </thead>\n",
       "  <tbody>\n",
       "    <tr>\n",
       "      <th>1</th>\n",
       "      <td>20</td>\n",
       "      <td>2.07</td>\n",
       "    </tr>\n",
       "    <tr>\n",
       "      <th>2</th>\n",
       "      <td>20</td>\n",
       "      <td>2.14</td>\n",
       "    </tr>\n",
       "    <tr>\n",
       "      <th>3</th>\n",
       "      <td>20</td>\n",
       "      <td>2.22</td>\n",
       "    </tr>\n",
       "    <tr>\n",
       "      <th>4</th>\n",
       "      <td>20</td>\n",
       "      <td>2.03</td>\n",
       "    </tr>\n",
       "    <tr>\n",
       "      <th>5</th>\n",
       "      <td>20</td>\n",
       "      <td>2.21</td>\n",
       "    </tr>\n",
       "    <tr>\n",
       "      <th>6</th>\n",
       "      <td>20</td>\n",
       "      <td>2.03</td>\n",
       "    </tr>\n",
       "    <tr>\n",
       "      <th>7</th>\n",
       "      <td>20</td>\n",
       "      <td>2.05</td>\n",
       "    </tr>\n",
       "    <tr>\n",
       "      <th>8</th>\n",
       "      <td>20</td>\n",
       "      <td>2.18</td>\n",
       "    </tr>\n",
       "    <tr>\n",
       "      <th>9</th>\n",
       "      <td>20</td>\n",
       "      <td>2.09</td>\n",
       "    </tr>\n",
       "    <tr>\n",
       "      <th>10</th>\n",
       "      <td>20</td>\n",
       "      <td>2.14</td>\n",
       "    </tr>\n",
       "    <tr>\n",
       "      <th>11</th>\n",
       "      <td>20</td>\n",
       "      <td>2.11</td>\n",
       "    </tr>\n",
       "    <tr>\n",
       "      <th>12</th>\n",
       "      <td>20</td>\n",
       "      <td>2.02</td>\n",
       "    </tr>\n",
       "    <tr>\n",
       "      <th>1</th>\n",
       "      <td>45</td>\n",
       "      <td>2.52</td>\n",
       "    </tr>\n",
       "    <tr>\n",
       "      <th>2</th>\n",
       "      <td>45</td>\n",
       "      <td>2.15</td>\n",
       "    </tr>\n",
       "    <tr>\n",
       "      <th>3</th>\n",
       "      <td>45</td>\n",
       "      <td>2.49</td>\n",
       "    </tr>\n",
       "    <tr>\n",
       "      <th>4</th>\n",
       "      <td>45</td>\n",
       "      <td>2.03</td>\n",
       "    </tr>\n",
       "    <tr>\n",
       "      <th>5</th>\n",
       "      <td>45</td>\n",
       "      <td>2.37</td>\n",
       "    </tr>\n",
       "    <tr>\n",
       "      <th>6</th>\n",
       "      <td>45</td>\n",
       "      <td>2.05</td>\n",
       "    </tr>\n",
       "    <tr>\n",
       "      <th>7</th>\n",
       "      <td>45</td>\n",
       "      <td>1.99</td>\n",
       "    </tr>\n",
       "    <tr>\n",
       "      <th>8</th>\n",
       "      <td>45</td>\n",
       "      <td>2.42</td>\n",
       "    </tr>\n",
       "    <tr>\n",
       "      <th>9</th>\n",
       "      <td>45</td>\n",
       "      <td>2.08</td>\n",
       "    </tr>\n",
       "    <tr>\n",
       "      <th>10</th>\n",
       "      <td>45</td>\n",
       "      <td>2.42</td>\n",
       "    </tr>\n",
       "    <tr>\n",
       "      <th>11</th>\n",
       "      <td>45</td>\n",
       "      <td>2.29</td>\n",
       "    </tr>\n",
       "    <tr>\n",
       "      <th>12</th>\n",
       "      <td>45</td>\n",
       "      <td>2.01</td>\n",
       "    </tr>\n",
       "  </tbody>\n",
       "</table>\n",
       "</div>"
      ],
      "text/plain": [
       "     C   Mpa\n",
       "1   20  2.07\n",
       "2   20  2.14\n",
       "3   20  2.22\n",
       "4   20  2.03\n",
       "5   20  2.21\n",
       "6   20  2.03\n",
       "7   20  2.05\n",
       "8   20  2.18\n",
       "9   20  2.09\n",
       "10  20  2.14\n",
       "11  20  2.11\n",
       "12  20  2.02\n",
       "1   45  2.52\n",
       "2   45  2.15\n",
       "3   45  2.49\n",
       "4   45  2.03\n",
       "5   45  2.37\n",
       "6   45  2.05\n",
       "7   45  1.99\n",
       "8   45  2.42\n",
       "9   45  2.08\n",
       "10  45  2.42\n",
       "11  45  2.29\n",
       "12  45  2.01"
      ]
     },
     "execution_count": 94,
     "metadata": {},
     "output_type": "execute_result"
    }
   ],
   "source": [
    "data20 = pd.DataFrame({'C': 20,  'Mpa': data[20]})\n",
    "data45 = pd.DataFrame({'C': 45,  'Mpa': data[45]})\n",
    "data_plot = pd.concat([data20, data45])\n",
    "data_plot"
   ]
  },
  {
   "cell_type": "code",
   "execution_count": 95,
   "id": "4097c5fe-4802-4511-90a1-ec28c70bfc97",
   "metadata": {
    "executionCancelledAt": null,
    "executionTime": 48,
    "lastExecutedAt": 1713854440930,
    "lastExecutedByKernel": "9d81f2b1-a17e-4439-9728-f8c53fb5a065",
    "lastScheduledRunId": null,
    "lastSuccessfullyExecutedCode": "colors = []\nfor i in data_plot['C']:\n    if(i == 20):\n        colors.append('#17c3b2')\n    else:\n        colors.append('#fe6d73')"
   },
   "outputs": [],
   "source": [
    "colors = []\n",
    "for i in data_plot['C']:\n",
    "    if(i == 20):\n",
    "        colors.append('#17c3b2')\n",
    "    else:\n",
    "        colors.append('#fe6d73')"
   ]
  },
  {
   "cell_type": "code",
   "execution_count": 96,
   "id": "6b28eb5d-ae1c-4b20-b093-ddb096e11b95",
   "metadata": {
    "executionCancelledAt": null,
    "executionTime": 89,
    "lastExecutedAt": 1713854441020,
    "lastExecutedByKernel": "9d81f2b1-a17e-4439-9728-f8c53fb5a065",
    "lastScheduledRunId": null,
    "lastSuccessfullyExecutedCode": "import matplotlib.pyplot as plt\n\nplt.scatter(x=data_plot['C'], y=data_plot['Mpa'], c=colors)\nplt.xlim([0, 65])\nplt.ylim([0, 3])\nplt.xticks([20, 45])\nplt.box(False)\nplt.show()"
   },
   "outputs": [
    {
     "data": {
      "image/png": "[encoded data removed]",
      "text/plain": [
       "<Figure size 640x480 with 1 Axes>"
      ]
     },
     "metadata": {},
     "output_type": "display_data"
    }
   ],
   "source": [
    "import matplotlib.pyplot as plt\n",
    "\n",
    "plt.scatter(x=data_plot['C'], y=data_plot['Mpa'], c=colors)\n",
    "plt.xlim([0, 65])\n",
    "plt.ylim([0, 3])\n",
    "plt.xticks([20, 45])\n",
    "plt.box(False)\n",
    "plt.show()"
   ]
  },
  {
   "cell_type": "code",
   "execution_count": 97,
   "id": "bb58dfe2-8434-4826-b3a5-905448376671",
   "metadata": {
    "executionCancelledAt": null,
    "executionTime": 125,
    "lastExecutedAt": 1713854441145,
    "lastExecutedByKernel": "9d81f2b1-a17e-4439-9728-f8c53fb5a065",
    "lastScheduledRunId": null,
    "lastSuccessfullyExecutedCode": "plt.scatter(x=data_plot['C'], y=data_plot['Mpa'], c=colors)\nplt.xlim([0, 65])\nplt.xticks([20, 45])\nplt.box(False)\nplt.show()"
   },
   "outputs": [
    {
     "data": {
      "image/png": "[encoded data removed]",
      "text/plain": [
       "<Figure size 640x480 with 1 Axes>"
      ]
     },
     "metadata": {},
     "output_type": "display_data"
    }
   ],
   "source": [
    "plt.scatter(x=data_plot['C'], y=data_plot['Mpa'], c=colors)\n",
    "plt.xlim([0, 65])\n",
    "plt.xticks([20, 45])\n",
    "plt.box(False)\n",
    "plt.show()"
   ]
  },
  {
   "cell_type": "markdown",
   "id": "6a9d7dfa-a845-4eb8-b746-8788c9d5ba63",
   "metadata": {},
   "source": [
    "2. Finding tensile strength means in Mpa for each temperature in C:"
   ]
  },
  {
   "cell_type": "code",
   "execution_count": 99,
   "id": "747bbcb4-6d29-4d26-96b8-586851bf1ceb",
   "metadata": {
    "executionCancelledAt": null,
    "executionTime": 13,
    "lastExecutedAt": 1713855150398,
    "lastExecutedByKernel": "9d81f2b1-a17e-4439-9728-f8c53fb5a065",
    "lastScheduledRunId": null,
    "lastSuccessfullyExecutedCode": "xbar_20 = data[20].mean()\nxbar_45 = data[45].mean()\nprint('Mean for 20C: ', xbar_20)\nprint('Mean for 45C: ', xbar_45)"
   },
   "outputs": [
    {
     "name": "stdout",
     "output_type": "stream",
     "text": [
      "Mean for 20C:  2.1075\n",
      "Mean for 45C:  2.235\n"
     ]
    }
   ],
   "source": [
    "xbar_20 = data[20].mean()\n",
    "xbar_45 = data[45].mean()\n",
    "print('Mean for 20C: ', xbar_20)\n",
    "print('Mean for 45C: ', xbar_45)"
   ]
  },
  {
   "cell_type": "markdown",
   "id": "0b39d20b-7c89-416e-938b-062b414b3a06",
   "metadata": {},
   "source": [
    "3. Relation of temperature to tensile strength?\n",
    "According to correlation, temperature and tensile strength is weekly positively correlated."
   ]
  },
  {
   "cell_type": "code",
   "execution_count": 103,
   "id": "178495a3-7f18-4c0d-9914-15bcff56f16c",
   "metadata": {
    "executionCancelledAt": null,
    "executionTime": 20,
    "lastExecutedAt": 1713855424920,
    "lastExecutedByKernel": "9d81f2b1-a17e-4439-9728-f8c53fb5a065",
    "lastScheduledRunId": null,
    "lastSuccessfullyExecutedCode": "data_plot.corr()"
   },
   "outputs": [
    {
     "data": {
      "application/com.datacamp.data-table.v2+json": {
       "table": {
        "data": {
         "C": [
          1,
          0.4009042489
         ],
         "Mpa": [
          0.4009042489,
          1
         ],
         "index": [
          "C",
          "Mpa"
         ]
        },
        "schema": {
         "fields": [
          {
           "name": "index",
           "type": "string"
          },
          {
           "name": "C",
           "type": "number"
          },
          {
           "name": "Mpa",
           "type": "number"
          }
         ],
         "pandas_version": "1.4.0",
         "primaryKey": [
          "index"
         ]
        }
       },
       "total_rows": 2,
       "truncation_type": null
      },
      "text/html": [
       "<div>\n",
       "<style scoped>\n",
       "    .dataframe tbody tr th:only-of-type {\n",
       "        vertical-align: middle;\n",
       "    }\n",
       "\n",
       "    .dataframe tbody tr th {\n",
       "        vertical-align: top;\n",
       "    }\n",
       "\n",
       "    .dataframe thead th {\n",
       "        text-align: right;\n",
       "    }\n",
       "</style>\n",
       "<table border=\"1\" class=\"dataframe\">\n",
       "  <thead>\n",
       "    <tr style=\"text-align: right;\">\n",
       "      <th></th>\n",
       "      <th>C</th>\n",
       "      <th>Mpa</th>\n",
       "    </tr>\n",
       "  </thead>\n",
       "  <tbody>\n",
       "    <tr>\n",
       "      <th>C</th>\n",
       "      <td>1.000000</td>\n",
       "      <td>0.400904</td>\n",
       "    </tr>\n",
       "    <tr>\n",
       "      <th>Mpa</th>\n",
       "      <td>0.400904</td>\n",
       "      <td>1.000000</td>\n",
       "    </tr>\n",
       "  </tbody>\n",
       "</table>\n",
       "</div>"
      ],
      "text/plain": [
       "            C       Mpa\n",
       "C    1.000000  0.400904\n",
       "Mpa  0.400904  1.000000"
      ]
     },
     "execution_count": 103,
     "metadata": {},
     "output_type": "execute_result"
    }
   ],
   "source": [
    "data_plot.corr()"
   ]
  },
  {
   "cell_type": "markdown",
   "id": "f286965b-56f8-4a4c-b789-a4f72952ad7b",
   "metadata": {},
   "source": [
    "4. Misc Observtions:\n",
    "Instead of all data points for 'Mpa' increasing with increase in 'C' they show an increase in spread/variation, with almost half data points aligning on the upper end of 'Mpa'. It might be noted, that in more samples, we can possibly find greater outliers. might be that temperature and tensile strength does not directly correlate."
   ]
  },
  {
   "cell_type": "markdown",
   "id": "5ee28355-dd62-47a8-bc23-cca8edbe0c32",
   "metadata": {},
   "source": [
    "**Recommendation:**\n",
    "Further data needed for more meaningful conclusions."
   ]
  }
 ],
 "metadata": {
  "colab": {
   "name": "Welcome to DataCamp Workspaces.ipynb",
   "provenance": []
  },
  "kernelspec": {
   "display_name": "Python 3 (ipykernel)",
   "language": "python",
   "name": "python3"
  },
  "language_info": {
   "codemirror_mode": {
    "name": "ipython",
    "version": 3
   },
   "file_extension": ".py",
   "mimetype": "text/x-python",
   "name": "python",
   "nbconvert_exporter": "python",
   "pygments_lexer": "ipython3",
   "version": "3.10.12"
  }
 },
 "nbformat": 4,
 "nbformat_minor": 5
}
